{
 "cells": [
  {
   "cell_type": "markdown",
   "metadata": {
    "id": "T8qoF9lyZg0q"
   },
   "source": [
    "# <center>Decision Trees: Drugs example     </center>"
   ]
  },
  {
   "cell_type": "markdown",
   "metadata": {
    "id": "k0b_8DZMZg1Q"
   },
   "source": [
    "In this notebook you will apply decision trees to model patients historical data and their respective medications. After training, you will use it to predict the medication for an unknown patient."
   ]
  },
  {
   "cell_type": "markdown",
   "metadata": {
    "id": "GedcFRN1Zg1U"
   },
   "source": [
    "Import the Following Libraries:\n",
    "<ul>\n",
    "    <li> <b>numpy (as np)</b> </li>\n",
    "    <li> <b>pandas</b> </li>\n",
    "    <li> <b>DecisionTreeClassifier</b> from <b>sklearn.tree</b> </li>\n",
    "</ul>"
   ]
  },
  {
   "cell_type": "code",
   "execution_count": 1,
   "metadata": {
    "executionInfo": {
     "elapsed": 1609,
     "status": "ok",
     "timestamp": 1620690764000,
     "user": {
      "displayName": "Miguel González Mendoza",
      "photoUrl": "https://lh3.googleusercontent.com/a-/AOh14GiV_CtUjRyHnCTpKAGAy1PrwRnGCEJqsuffhRV4=s64",
      "userId": "09757055810901067626"
     },
     "user_tz": 300
    },
    "id": "u3qyhGB7Zg1Z"
   },
   "outputs": [],
   "source": [
    "import numpy as np \n",
    "import pandas as pd\n",
    "from sklearn.tree import DecisionTreeClassifier\n",
    "from matplotlib import pyplot as plt"
   ]
  },
  {
   "cell_type": "markdown",
   "metadata": {
    "id": "rRcfevmxZg1e"
   },
   "source": [
    "In this dataset we have 5 medications, drugs A, B, c, x and y. The features are Age, Sex, Blood pressure and Cholesterol."
   ]
  },
  {
   "cell_type": "markdown",
   "metadata": {
    "id": "CgdsiXdIZg1k"
   },
   "source": [
    "### Reading the data\n",
    "We take data from file drug200.csv"
   ]
  },
  {
   "cell_type": "code",
   "execution_count": 2,
   "metadata": {
    "colab": {
     "base_uri": "https://localhost:8080/"
    },
    "executionInfo": {
     "elapsed": 29880,
     "status": "ok",
     "timestamp": 1620690792277,
     "user": {
      "displayName": "Miguel González Mendoza",
      "photoUrl": "https://lh3.googleusercontent.com/a-/AOh14GiV_CtUjRyHnCTpKAGAy1PrwRnGCEJqsuffhRV4=s64",
      "userId": "09757055810901067626"
     },
     "user_tz": 300
    },
    "id": "0dze-7JSafsL",
    "outputId": "63a10dce-9db2-49da-f528-e20af0985b94"
   },
   "outputs": [
    {
     "name": "stdout",
     "output_type": "stream",
     "text": [
      "Mounted at /content/drive\n"
     ]
    }
   ],
   "source": [
    "from google.colab import drive\n",
    "drive.mount('/content/drive')"
   ]
  },
  {
   "cell_type": "code",
   "execution_count": 3,
   "metadata": {
    "colab": {
     "base_uri": "https://localhost:8080/",
     "height": 204
    },
    "executionInfo": {
     "elapsed": 826,
     "status": "ok",
     "timestamp": 1620690844287,
     "user": {
      "displayName": "Miguel González Mendoza",
      "photoUrl": "https://lh3.googleusercontent.com/a-/AOh14GiV_CtUjRyHnCTpKAGAy1PrwRnGCEJqsuffhRV4=s64",
      "userId": "09757055810901067626"
     },
     "user_tz": 300
    },
    "id": "sNrL49kjZg1r",
    "outputId": "14a9f3b5-3e5f-4e65-93c5-7b28985bef24"
   },
   "outputs": [
    {
     "data": {
      "text/html": [
       "<div>\n",
       "<style scoped>\n",
       "    .dataframe tbody tr th:only-of-type {\n",
       "        vertical-align: middle;\n",
       "    }\n",
       "\n",
       "    .dataframe tbody tr th {\n",
       "        vertical-align: top;\n",
       "    }\n",
       "\n",
       "    .dataframe thead th {\n",
       "        text-align: right;\n",
       "    }\n",
       "</style>\n",
       "<table border=\"1\" class=\"dataframe\">\n",
       "  <thead>\n",
       "    <tr style=\"text-align: right;\">\n",
       "      <th></th>\n",
       "      <th>Age</th>\n",
       "      <th>Sex</th>\n",
       "      <th>BP</th>\n",
       "      <th>Cholesterol</th>\n",
       "      <th>Na_to_K</th>\n",
       "      <th>Drug</th>\n",
       "    </tr>\n",
       "  </thead>\n",
       "  <tbody>\n",
       "    <tr>\n",
       "      <th>0</th>\n",
       "      <td>23</td>\n",
       "      <td>F</td>\n",
       "      <td>HIGH</td>\n",
       "      <td>HIGH</td>\n",
       "      <td>25.355</td>\n",
       "      <td>drugY</td>\n",
       "    </tr>\n",
       "    <tr>\n",
       "      <th>1</th>\n",
       "      <td>47</td>\n",
       "      <td>M</td>\n",
       "      <td>LOW</td>\n",
       "      <td>HIGH</td>\n",
       "      <td>13.093</td>\n",
       "      <td>drugC</td>\n",
       "    </tr>\n",
       "    <tr>\n",
       "      <th>2</th>\n",
       "      <td>47</td>\n",
       "      <td>M</td>\n",
       "      <td>LOW</td>\n",
       "      <td>HIGH</td>\n",
       "      <td>10.114</td>\n",
       "      <td>drugC</td>\n",
       "    </tr>\n",
       "    <tr>\n",
       "      <th>3</th>\n",
       "      <td>28</td>\n",
       "      <td>F</td>\n",
       "      <td>NORMAL</td>\n",
       "      <td>HIGH</td>\n",
       "      <td>7.798</td>\n",
       "      <td>drugX</td>\n",
       "    </tr>\n",
       "    <tr>\n",
       "      <th>4</th>\n",
       "      <td>61</td>\n",
       "      <td>F</td>\n",
       "      <td>LOW</td>\n",
       "      <td>HIGH</td>\n",
       "      <td>18.043</td>\n",
       "      <td>drugY</td>\n",
       "    </tr>\n",
       "  </tbody>\n",
       "</table>\n",
       "</div>"
      ],
      "text/plain": [
       "   Age Sex      BP Cholesterol  Na_to_K   Drug\n",
       "0   23   F    HIGH        HIGH   25.355  drugY\n",
       "1   47   M     LOW        HIGH   13.093  drugC\n",
       "2   47   M     LOW        HIGH   10.114  drugC\n",
       "3   28   F  NORMAL        HIGH    7.798  drugX\n",
       "4   61   F     LOW        HIGH   18.043  drugY"
      ]
     },
     "execution_count": 3,
     "metadata": {
      "tags": []
     },
     "output_type": "execute_result"
    }
   ],
   "source": [
    "my_data = pd.read_csv(\"/content/drive/MyDrive/Colab Notebooks/6 Decision tree/drug200.csv\", delimiter=\",\")\n",
    "my_data[0:5]"
   ]
  },
  {
   "cell_type": "markdown",
   "metadata": {
    "id": "e0otHo2nZg1t"
   },
   "source": [
    "What is the size of the data?"
   ]
  },
  {
   "cell_type": "code",
   "execution_count": 4,
   "metadata": {
    "colab": {
     "base_uri": "https://localhost:8080/"
    },
    "executionInfo": {
     "elapsed": 246,
     "status": "ok",
     "timestamp": 1620690846203,
     "user": {
      "displayName": "Miguel González Mendoza",
      "photoUrl": "https://lh3.googleusercontent.com/a-/AOh14GiV_CtUjRyHnCTpKAGAy1PrwRnGCEJqsuffhRV4=s64",
      "userId": "09757055810901067626"
     },
     "user_tz": 300
    },
    "id": "sPyk-vkGeTHd",
    "outputId": "6f17b2f8-e8f2-4fc0-f28f-8bf3b05b0286"
   },
   "outputs": [
    {
     "data": {
      "text/plain": [
       "1200"
      ]
     },
     "execution_count": 4,
     "metadata": {
      "tags": []
     },
     "output_type": "execute_result"
    }
   ],
   "source": [
    "my_data.size"
   ]
  },
  {
   "cell_type": "markdown",
   "metadata": {
    "id": "5hkO5yjZZg1x"
   },
   "source": [
    "## Pre-processing"
   ]
  },
  {
   "cell_type": "markdown",
   "metadata": {
    "id": "SFDPY7CmZg1y"
   },
   "source": [
    "Using <b>my_data</b> as the Panda from file Drug.csv, declare the variables: <br>\n",
    "<ul>\n",
    "    <li> <b> X </b> as the <b> Feature Matrix </b> </li>\n",
    "    <li> <b> y </b> as the <b> target vector </b> </li>\n",
    "</ul>"
   ]
  },
  {
   "cell_type": "markdown",
   "metadata": {
    "id": "pDUaSwF0Zg10"
   },
   "source": [
    "We need to convert the features to numerical values so that the library is able to use them. First, we drop the column containing the target:"
   ]
  },
  {
   "cell_type": "code",
   "execution_count": 5,
   "metadata": {
    "colab": {
     "base_uri": "https://localhost:8080/"
    },
    "executionInfo": {
     "elapsed": 256,
     "status": "ok",
     "timestamp": 1620690849753,
     "user": {
      "displayName": "Miguel González Mendoza",
      "photoUrl": "https://lh3.googleusercontent.com/a-/AOh14GiV_CtUjRyHnCTpKAGAy1PrwRnGCEJqsuffhRV4=s64",
      "userId": "09757055810901067626"
     },
     "user_tz": 300
    },
    "id": "8MA1RY1yZg11",
    "outputId": "8fd9a70e-f811-4e12-b78d-378c19cac4a3"
   },
   "outputs": [
    {
     "data": {
      "text/plain": [
       "array([[23, 'F', 'HIGH', 'HIGH', 25.355],\n",
       "       [47, 'M', 'LOW', 'HIGH', 13.093],\n",
       "       [47, 'M', 'LOW', 'HIGH', 10.113999999999999],\n",
       "       [28, 'F', 'NORMAL', 'HIGH', 7.797999999999999],\n",
       "       [61, 'F', 'LOW', 'HIGH', 18.043]], dtype=object)"
      ]
     },
     "execution_count": 5,
     "metadata": {
      "tags": []
     },
     "output_type": "execute_result"
    }
   ],
   "source": [
    "X = my_data[['Age', 'Sex', 'BP', 'Cholesterol', 'Na_to_K']].values\n",
    "X[0:5]"
   ]
  },
  {
   "cell_type": "markdown",
   "metadata": {
    "id": "laULwyisZg12"
   },
   "source": [
    "Then we convert the categorial values into numerical ones:"
   ]
  },
  {
   "cell_type": "code",
   "execution_count": null,
   "metadata": {
    "id": "seSZZrx_Zg15"
   },
   "outputs": [],
   "source": [
    "from sklearn import preprocessing\n",
    "le_sex = preprocessing.LabelEncoder()\n",
    "le_sex.fit(['F','M'])\n",
    "X[:,1] = le_sex.transform(X[:,1]) \n",
    "\n",
    "\n",
    "le_BP = preprocessing.LabelEncoder()\n",
    "le_BP.fit([ 'LOW', 'NORMAL', 'HIGH'])\n",
    "X[:,2] = le_BP.transform(X[:,2])\n",
    "\n",
    "\n",
    "le_Chol = preprocessing.LabelEncoder()\n",
    "le_Chol.fit([ 'NORMAL', 'HIGH'])\n",
    "X[:,3] = le_Chol.transform(X[:,3]) \n",
    "\n",
    "X[0:5]\n"
   ]
  },
  {
   "cell_type": "markdown",
   "metadata": {
    "id": "tOd18gs2Zg16"
   },
   "source": [
    "And finally we build the target variable:"
   ]
  },
  {
   "cell_type": "code",
   "execution_count": 7,
   "metadata": {
    "colab": {
     "base_uri": "https://localhost:8080/"
    },
    "executionInfo": {
     "elapsed": 262,
     "status": "ok",
     "timestamp": 1620690856341,
     "user": {
      "displayName": "Miguel González Mendoza",
      "photoUrl": "https://lh3.googleusercontent.com/a-/AOh14GiV_CtUjRyHnCTpKAGAy1PrwRnGCEJqsuffhRV4=s64",
      "userId": "09757055810901067626"
     },
     "user_tz": 300
    },
    "id": "AQGUtkXmZg18",
    "outputId": "e17a1a2c-72f0-4d6f-9645-a777953e92d6"
   },
   "outputs": [
    {
     "data": {
      "text/plain": [
       "0    drugY\n",
       "1    drugC\n",
       "2    drugC\n",
       "3    drugX\n",
       "4    drugY\n",
       "Name: Drug, dtype: object"
      ]
     },
     "execution_count": 7,
     "metadata": {
      "tags": []
     },
     "output_type": "execute_result"
    }
   ],
   "source": [
    "y = my_data[\"Drug\"]\n",
    "y[0:5]"
   ]
  },
  {
   "cell_type": "markdown",
   "metadata": {
    "id": "vNmT7hyKZg19"
   },
   "source": [
    "## Splitting the data\n",
    "We'll use <b>train/test splitting</b> in our <b>decision tree</b>. We import <b>train_test_split</b> from <b>sklearn.cross_validation</b>."
   ]
  },
  {
   "cell_type": "code",
   "execution_count": 8,
   "metadata": {
    "executionInfo": {
     "elapsed": 253,
     "status": "ok",
     "timestamp": 1620690858895,
     "user": {
      "displayName": "Miguel González Mendoza",
      "photoUrl": "https://lh3.googleusercontent.com/a-/AOh14GiV_CtUjRyHnCTpKAGAy1PrwRnGCEJqsuffhRV4=s64",
      "userId": "09757055810901067626"
     },
     "user_tz": 300
    },
    "id": "7t8zzQt0Zg1_"
   },
   "outputs": [],
   "source": [
    "from sklearn.model_selection import train_test_split"
   ]
  },
  {
   "cell_type": "markdown",
   "metadata": {
    "id": "XU727VtsZg2A"
   },
   "source": [
    "Now, <b> train_test_split </b> will return 4 parameters:<br>\n",
    "X_trainset, X_testset, y_trainset, y_testset <br> <br>\n",
    "<b> train_test_split </b> will need the parameters: <br>\n",
    "X, y, test_size=0.3, and random_state=3. <br> <br>."
   ]
  },
  {
   "cell_type": "code",
   "execution_count": 9,
   "metadata": {
    "executionInfo": {
     "elapsed": 270,
     "status": "ok",
     "timestamp": 1620690860051,
     "user": {
      "displayName": "Miguel González Mendoza",
      "photoUrl": "https://lh3.googleusercontent.com/a-/AOh14GiV_CtUjRyHnCTpKAGAy1PrwRnGCEJqsuffhRV4=s64",
      "userId": "09757055810901067626"
     },
     "user_tz": 300
    },
    "id": "o02TD_c6Zg2B"
   },
   "outputs": [],
   "source": [
    "X_trainset, X_testset, y_trainset, y_testset = train_test_split(X, y, test_size=0.3, random_state=3)"
   ]
  },
  {
   "cell_type": "markdown",
   "metadata": {
    "id": "0-r6n42tZg2C"
   },
   "source": [
    "## Check\n",
    "Print the outline of X_trainset and y_trainset. Make sure that their dimensions are OK."
   ]
  },
  {
   "cell_type": "code",
   "execution_count": 10,
   "metadata": {
    "colab": {
     "base_uri": "https://localhost:8080/"
    },
    "executionInfo": {
     "elapsed": 360,
     "status": "ok",
     "timestamp": 1620690861874,
     "user": {
      "displayName": "Miguel González Mendoza",
      "photoUrl": "https://lh3.googleusercontent.com/a-/AOh14GiV_CtUjRyHnCTpKAGAy1PrwRnGCEJqsuffhRV4=s64",
      "userId": "09757055810901067626"
     },
     "user_tz": 300
    },
    "id": "04StyBA1Zg2E",
    "outputId": "8c29ab33-b9e6-438a-dccf-38aceb11f2d1"
   },
   "outputs": [
    {
     "data": {
      "text/plain": [
       "(140, 5)"
      ]
     },
     "execution_count": 10,
     "metadata": {
      "tags": []
     },
     "output_type": "execute_result"
    }
   ],
   "source": [
    "X_trainset.shape\n",
    "\n"
   ]
  },
  {
   "cell_type": "code",
   "execution_count": 11,
   "metadata": {
    "colab": {
     "base_uri": "https://localhost:8080/"
    },
    "executionInfo": {
     "elapsed": 177,
     "status": "ok",
     "timestamp": 1620690862637,
     "user": {
      "displayName": "Miguel González Mendoza",
      "photoUrl": "https://lh3.googleusercontent.com/a-/AOh14GiV_CtUjRyHnCTpKAGAy1PrwRnGCEJqsuffhRV4=s64",
      "userId": "09757055810901067626"
     },
     "user_tz": 300
    },
    "id": "0au5scqghWfW",
    "outputId": "33fbe30c-0cb9-4ce6-8b22-d019a7d43fee"
   },
   "outputs": [
    {
     "data": {
      "text/plain": [
       "(140,)"
      ]
     },
     "execution_count": 11,
     "metadata": {
      "tags": []
     },
     "output_type": "execute_result"
    }
   ],
   "source": [
    "y_trainset.shape"
   ]
  },
  {
   "cell_type": "markdown",
   "metadata": {
    "id": "y6wTjrydZg2F"
   },
   "source": [
    "Print the outline of X_testset and y_testset. Make sure their dimensions are compatible."
   ]
  },
  {
   "cell_type": "code",
   "execution_count": 12,
   "metadata": {
    "colab": {
     "base_uri": "https://localhost:8080/"
    },
    "executionInfo": {
     "elapsed": 231,
     "status": "ok",
     "timestamp": 1620690863611,
     "user": {
      "displayName": "Miguel González Mendoza",
      "photoUrl": "https://lh3.googleusercontent.com/a-/AOh14GiV_CtUjRyHnCTpKAGAy1PrwRnGCEJqsuffhRV4=s64",
      "userId": "09757055810901067626"
     },
     "user_tz": 300
    },
    "id": "uFWNmYjxZg2I",
    "outputId": "7c04d083-7759-4eea-b424-4acf00a708de"
   },
   "outputs": [
    {
     "data": {
      "text/plain": [
       "(60, 5)"
      ]
     },
     "execution_count": 12,
     "metadata": {
      "tags": []
     },
     "output_type": "execute_result"
    }
   ],
   "source": [
    "X_testset.shape"
   ]
  },
  {
   "cell_type": "code",
   "execution_count": 13,
   "metadata": {
    "colab": {
     "base_uri": "https://localhost:8080/"
    },
    "executionInfo": {
     "elapsed": 233,
     "status": "ok",
     "timestamp": 1620690865200,
     "user": {
      "displayName": "Miguel González Mendoza",
      "photoUrl": "https://lh3.googleusercontent.com/a-/AOh14GiV_CtUjRyHnCTpKAGAy1PrwRnGCEJqsuffhRV4=s64",
      "userId": "09757055810901067626"
     },
     "user_tz": 300
    },
    "id": "gKTo9yuJhPZ_",
    "outputId": "b8a1d29e-b330-45d6-bc66-ea5ff3fc91d4"
   },
   "outputs": [
    {
     "data": {
      "text/plain": [
       "(60,)"
      ]
     },
     "execution_count": 13,
     "metadata": {
      "tags": []
     },
     "output_type": "execute_result"
    }
   ],
   "source": [
    "y_testset.shape"
   ]
  },
  {
   "cell_type": "markdown",
   "metadata": {
    "id": "fFe2dbObZg2L"
   },
   "source": [
    "## Modeling\n",
    "We first create an instance of <b>DecisionTreeClassifier</b> named <b>drugTree</b>.<br>\n",
    "In the classifier, we specify <i> criterion=\"entropy\" </i> so we see the information of each node."
   ]
  },
  {
   "cell_type": "code",
   "execution_count": 14,
   "metadata": {
    "colab": {
     "base_uri": "https://localhost:8080/"
    },
    "executionInfo": {
     "elapsed": 241,
     "status": "ok",
     "timestamp": 1620690867031,
     "user": {
      "displayName": "Miguel González Mendoza",
      "photoUrl": "https://lh3.googleusercontent.com/a-/AOh14GiV_CtUjRyHnCTpKAGAy1PrwRnGCEJqsuffhRV4=s64",
      "userId": "09757055810901067626"
     },
     "user_tz": 300
    },
    "id": "zZh0REIBZg2M",
    "outputId": "e7f78fba-1115-421b-848e-a81b6a668187"
   },
   "outputs": [
    {
     "data": {
      "text/plain": [
       "DecisionTreeClassifier(ccp_alpha=0.0, class_weight=None, criterion='entropy',\n",
       "                       max_depth=4, max_features=None, max_leaf_nodes=None,\n",
       "                       min_impurity_decrease=0.0, min_impurity_split=None,\n",
       "                       min_samples_leaf=1, min_samples_split=2,\n",
       "                       min_weight_fraction_leaf=0.0, presort='deprecated',\n",
       "                       random_state=None, splitter='best')"
      ]
     },
     "execution_count": 14,
     "metadata": {
      "tags": []
     },
     "output_type": "execute_result"
    }
   ],
   "source": [
    "drugTree = DecisionTreeClassifier(criterion=\"entropy\", max_depth = 4)\n",
    "drugTree # shows all parameters, including default ones"
   ]
  },
  {
   "cell_type": "markdown",
   "metadata": {
    "id": "eASrKa2ZZg2N"
   },
   "source": [
    "Now we do the training itself with <b> X_trainset </b> and the target vector <b> y_trainset </b>"
   ]
  },
  {
   "cell_type": "code",
   "execution_count": 15,
   "metadata": {
    "colab": {
     "base_uri": "https://localhost:8080/"
    },
    "executionInfo": {
     "elapsed": 279,
     "status": "ok",
     "timestamp": 1620690867946,
     "user": {
      "displayName": "Miguel González Mendoza",
      "photoUrl": "https://lh3.googleusercontent.com/a-/AOh14GiV_CtUjRyHnCTpKAGAy1PrwRnGCEJqsuffhRV4=s64",
      "userId": "09757055810901067626"
     },
     "user_tz": 300
    },
    "id": "RBQmhyA_Zg2O",
    "outputId": "96a81124-5eb6-4213-cd0d-58e28aff471d"
   },
   "outputs": [
    {
     "data": {
      "text/plain": [
       "DecisionTreeClassifier(ccp_alpha=0.0, class_weight=None, criterion='entropy',\n",
       "                       max_depth=4, max_features=None, max_leaf_nodes=None,\n",
       "                       min_impurity_decrease=0.0, min_impurity_split=None,\n",
       "                       min_samples_leaf=1, min_samples_split=2,\n",
       "                       min_weight_fraction_leaf=0.0, presort='deprecated',\n",
       "                       random_state=None, splitter='best')"
      ]
     },
     "execution_count": 15,
     "metadata": {
      "tags": []
     },
     "output_type": "execute_result"
    }
   ],
   "source": [
    "drugTree.fit(X_trainset,y_trainset)"
   ]
  },
  {
   "cell_type": "markdown",
   "metadata": {
    "id": "AoUkSOy7Zg2P"
   },
   "source": [
    "## Prediction\n",
    "Now let's make some <b>predictions</b> in the test dataset and store them in a variable called <b>predTree</b>."
   ]
  },
  {
   "cell_type": "code",
   "execution_count": 16,
   "metadata": {
    "executionInfo": {
     "elapsed": 278,
     "status": "ok",
     "timestamp": 1620690869990,
     "user": {
      "displayName": "Miguel González Mendoza",
      "photoUrl": "https://lh3.googleusercontent.com/a-/AOh14GiV_CtUjRyHnCTpKAGAy1PrwRnGCEJqsuffhRV4=s64",
      "userId": "09757055810901067626"
     },
     "user_tz": 300
    },
    "id": "Q1lz6lMoZg2Q"
   },
   "outputs": [],
   "source": [
    "predTree = drugTree.predict(X_testset)"
   ]
  },
  {
   "cell_type": "markdown",
   "metadata": {
    "id": "4bSmDnloZg2R"
   },
   "source": [
    "You could print <b>predTree</b> and <b>y_testset</b> to compare visually the prediction with the actual values."
   ]
  },
  {
   "cell_type": "code",
   "execution_count": 17,
   "metadata": {
    "colab": {
     "base_uri": "https://localhost:8080/",
     "height": 204
    },
    "executionInfo": {
     "elapsed": 242,
     "status": "ok",
     "timestamp": 1620690872583,
     "user": {
      "displayName": "Miguel González Mendoza",
      "photoUrl": "https://lh3.googleusercontent.com/a-/AOh14GiV_CtUjRyHnCTpKAGAy1PrwRnGCEJqsuffhRV4=s64",
      "userId": "09757055810901067626"
     },
     "user_tz": 300
    },
    "id": "X7wW5s67Zg2S",
    "outputId": "8e46e74d-f3c8-45db-addc-96dfd994ecc1"
   },
   "outputs": [
    {
     "data": {
      "text/html": [
       "<div>\n",
       "<style scoped>\n",
       "    .dataframe tbody tr th:only-of-type {\n",
       "        vertical-align: middle;\n",
       "    }\n",
       "\n",
       "    .dataframe tbody tr th {\n",
       "        vertical-align: top;\n",
       "    }\n",
       "\n",
       "    .dataframe thead th {\n",
       "        text-align: right;\n",
       "    }\n",
       "</style>\n",
       "<table border=\"1\" class=\"dataframe\">\n",
       "  <thead>\n",
       "    <tr style=\"text-align: right;\">\n",
       "      <th></th>\n",
       "      <th>Predicted_value</th>\n",
       "      <th>Actual_value</th>\n",
       "    </tr>\n",
       "  </thead>\n",
       "  <tbody>\n",
       "    <tr>\n",
       "      <th>40</th>\n",
       "      <td>drugY</td>\n",
       "      <td>drugY</td>\n",
       "    </tr>\n",
       "    <tr>\n",
       "      <th>51</th>\n",
       "      <td>drugX</td>\n",
       "      <td>drugX</td>\n",
       "    </tr>\n",
       "    <tr>\n",
       "      <th>139</th>\n",
       "      <td>drugX</td>\n",
       "      <td>drugX</td>\n",
       "    </tr>\n",
       "    <tr>\n",
       "      <th>197</th>\n",
       "      <td>drugX</td>\n",
       "      <td>drugX</td>\n",
       "    </tr>\n",
       "    <tr>\n",
       "      <th>170</th>\n",
       "      <td>drugX</td>\n",
       "      <td>drugX</td>\n",
       "    </tr>\n",
       "  </tbody>\n",
       "</table>\n",
       "</div>"
      ],
      "text/plain": [
       "    Predicted_value Actual_value\n",
       "40            drugY        drugY\n",
       "51            drugX        drugX\n",
       "139           drugX        drugX\n",
       "197           drugX        drugX\n",
       "170           drugX        drugX"
      ]
     },
     "execution_count": 17,
     "metadata": {
      "tags": []
     },
     "output_type": "execute_result"
    }
   ],
   "source": [
    "Actual_value = y_testset [0:5]\n",
    "Predicted_value = predTree [0:5]\n",
    "df1 = pd.DataFrame({\"Predicted_value\": Predicted_value, \"Actual_value\": Actual_value})\n",
    "df1"
   ]
  },
  {
   "cell_type": "markdown",
   "metadata": {
    "id": "32XLuDtBC-_K"
   },
   "source": [
    "Let's visualize the predicted vs real data"
   ]
  },
  {
   "cell_type": "code",
   "execution_count": 18,
   "metadata": {
    "colab": {
     "base_uri": "https://localhost:8080/",
     "height": 502
    },
    "executionInfo": {
     "elapsed": 421,
     "status": "ok",
     "timestamp": 1620690875132,
     "user": {
      "displayName": "Miguel González Mendoza",
      "photoUrl": "https://lh3.googleusercontent.com/a-/AOh14GiV_CtUjRyHnCTpKAGAy1PrwRnGCEJqsuffhRV4=s64",
      "userId": "09757055810901067626"
     },
     "user_tz": 300
    },
    "id": "_D4xgA2QDEpl",
    "outputId": "4a814fcf-1475-46b3-a54d-6905c98e97a5"
   },
   "outputs": [
    {
     "data": {
      "image/png": "[encoded data removed]",
      "text/plain": [
       "<Figure size 576x576 with 1 Axes>"
      ]
     },
     "metadata": {
      "needs_background": "light",
      "tags": []
     },
     "output_type": "display_data"
    }
   ],
   "source": [
    "plt.figure(figsize=(8,8))\n",
    "plt.scatter(y_testset, predTree, c=\"green\")\n",
    "p1 = max(max(predTree), max(y_testset))\n",
    "p2 = min(min(predTree), min(y_testset))\n",
    "plt.xlabel('True Values', fontsize=15)\n",
    "plt.ylabel('Predictions', fontsize=15)\n",
    "plt.axis('equal')\n",
    "plt.show()"
   ]
  },
  {
   "cell_type": "markdown",
   "metadata": {
    "id": "nTDTmIjlZg2U"
   },
   "source": [
    "## Evaluation metrics\n",
    "Let's import __metrics__ from sklearn and review how well our model's predicts the target."
   ]
  },
  {
   "cell_type": "code",
   "execution_count": 19,
   "metadata": {
    "colab": {
     "base_uri": "https://localhost:8080/"
    },
    "executionInfo": {
     "elapsed": 277,
     "status": "ok",
     "timestamp": 1620690879779,
     "user": {
      "displayName": "Miguel González Mendoza",
      "photoUrl": "https://lh3.googleusercontent.com/a-/AOh14GiV_CtUjRyHnCTpKAGAy1PrwRnGCEJqsuffhRV4=s64",
      "userId": "09757055810901067626"
     },
     "user_tz": 300
    },
    "id": "f2DTHfbnZg2W",
    "outputId": "b6a2a809-44cc-4f0b-c746-27fd1b7ffdd7"
   },
   "outputs": [
    {
     "name": "stdout",
     "output_type": "stream",
     "text": [
      "Accuracy train:  1.0\n",
      "Accuracy test:  0.9833333333333333\n"
     ]
    }
   ],
   "source": [
    "from sklearn import metrics\n",
    "import matplotlib.pyplot as plt\n",
    "predt = drugTree.predict(X_trainset)\n",
    "print(\"Accuracy train: \", metrics.accuracy_score(y_trainset, predt))\n",
    "print(\"Accuracy test: \", metrics.accuracy_score(y_testset, predTree))"
   ]
  },
  {
   "cell_type": "markdown",
   "metadata": {
    "id": "AVPpfbu5Zg2X"
   },
   "source": [
    "That's all folks!"
   ]
  }
 ],
 "metadata": {
  "colab": {
   "name": "DecisionTrees.ipynb",
   "provenance": [],
   "toc_visible": true
  },
  "kernelspec": {
   "display_name": "Python 3",
   "language": "python",
   "name": "python3"
  },
  "language_info": {
   "codemirror_mode": {
    "name": "ipython",
    "version": 3
   },
   "file_extension": ".py",
   "mimetype": "text/x-python",
   "name": "python",
   "nbconvert_exporter": "python",
   "pygments_lexer": "ipython3",
   "version": "3.8.8"
  }
 },
 "nbformat": 4,
 "nbformat_minor": 1
}
