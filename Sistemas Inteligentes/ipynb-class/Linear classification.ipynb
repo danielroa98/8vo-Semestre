{
 "cells": [
  {
   "cell_type": "code",
   "execution_count": 1,
   "metadata": {
    "executionInfo": {
     "elapsed": 1379,
     "status": "ok",
     "timestamp": 1620690992748,
     "user": {
      "displayName": "Miguel González Mendoza",
      "photoUrl": "https://lh3.googleusercontent.com/a-/AOh14GiV_CtUjRyHnCTpKAGAy1PrwRnGCEJqsuffhRV4=s64",
      "userId": "09757055810901067626"
     },
     "user_tz": 300
    },
    "id": "PXEv8_BOSOqr"
   },
   "outputs": [],
   "source": [
    "from sklearn.datasets import load_iris\n",
    "from sklearn.model_selection import train_test_split\n",
    "from sklearn.neighbors import KNeighborsClassifier\n",
    "from sklearn import metrics\n",
    "from sklearn.metrics import confusion_matrix\n",
    "from sklearn import linear_model\n",
    "import numpy as np\n",
    "import pandas as pd  \n",
    "import matplotlib.pyplot as plt\n",
    "import numpy as np\n",
    "from matplotlib.colors import ListedColormap\n",
    "from sklearn import neighbors, datasets"
   ]
  },
  {
   "cell_type": "code",
   "execution_count": 2,
   "metadata": {
    "executionInfo": {
     "elapsed": 278,
     "status": "ok",
     "timestamp": 1620690996286,
     "user": {
      "displayName": "Miguel González Mendoza",
      "photoUrl": "https://lh3.googleusercontent.com/a-/AOh14GiV_CtUjRyHnCTpKAGAy1PrwRnGCEJqsuffhRV4=s64",
      "userId": "09757055810901067626"
     },
     "user_tz": 300
    },
    "id": "hVxeWw4OSX0u"
   },
   "outputs": [],
   "source": [
    "iris_dataset = load_iris()"
   ]
  },
  {
   "cell_type": "code",
   "execution_count": 3,
   "metadata": {
    "colab": {
     "base_uri": "https://localhost:8080/",
     "height": 204
    },
    "executionInfo": {
     "elapsed": 384,
     "status": "ok",
     "timestamp": 1620690998149,
     "user": {
      "displayName": "Miguel González Mendoza",
      "photoUrl": "https://lh3.googleusercontent.com/a-/AOh14GiV_CtUjRyHnCTpKAGAy1PrwRnGCEJqsuffhRV4=s64",
      "userId": "09757055810901067626"
     },
     "user_tz": 300
    },
    "id": "3WQ8DXLhT1G2",
    "outputId": "b0835997-2f3f-4f83-adcf-717e3663c913"
   },
   "outputs": [
    {
     "data": {
      "text/html": [
       "<div>\n",
       "<style scoped>\n",
       "    .dataframe tbody tr th:only-of-type {\n",
       "        vertical-align: middle;\n",
       "    }\n",
       "\n",
       "    .dataframe tbody tr th {\n",
       "        vertical-align: top;\n",
       "    }\n",
       "\n",
       "    .dataframe thead th {\n",
       "        text-align: right;\n",
       "    }\n",
       "</style>\n",
       "<table border=\"1\" class=\"dataframe\">\n",
       "  <thead>\n",
       "    <tr style=\"text-align: right;\">\n",
       "      <th></th>\n",
       "      <th>sepal length (cm)</th>\n",
       "      <th>sepal width (cm)</th>\n",
       "      <th>petal length (cm)</th>\n",
       "      <th>petal width (cm)</th>\n",
       "      <th>Name</th>\n",
       "    </tr>\n",
       "  </thead>\n",
       "  <tbody>\n",
       "    <tr>\n",
       "      <th>0</th>\n",
       "      <td>5.1</td>\n",
       "      <td>3.5</td>\n",
       "      <td>1.4</td>\n",
       "      <td>0.2</td>\n",
       "      <td>setosa</td>\n",
       "    </tr>\n",
       "    <tr>\n",
       "      <th>1</th>\n",
       "      <td>4.9</td>\n",
       "      <td>3.0</td>\n",
       "      <td>1.4</td>\n",
       "      <td>0.2</td>\n",
       "      <td>setosa</td>\n",
       "    </tr>\n",
       "    <tr>\n",
       "      <th>2</th>\n",
       "      <td>4.7</td>\n",
       "      <td>3.2</td>\n",
       "      <td>1.3</td>\n",
       "      <td>0.2</td>\n",
       "      <td>setosa</td>\n",
       "    </tr>\n",
       "    <tr>\n",
       "      <th>3</th>\n",
       "      <td>4.6</td>\n",
       "      <td>3.1</td>\n",
       "      <td>1.5</td>\n",
       "      <td>0.2</td>\n",
       "      <td>setosa</td>\n",
       "    </tr>\n",
       "    <tr>\n",
       "      <th>4</th>\n",
       "      <td>5.0</td>\n",
       "      <td>3.6</td>\n",
       "      <td>1.4</td>\n",
       "      <td>0.2</td>\n",
       "      <td>setosa</td>\n",
       "    </tr>\n",
       "  </tbody>\n",
       "</table>\n",
       "</div>"
      ],
      "text/plain": [
       "   sepal length (cm)  sepal width (cm)  ...  petal width (cm)    Name\n",
       "0                5.1               3.5  ...               0.2  setosa\n",
       "1                4.9               3.0  ...               0.2  setosa\n",
       "2                4.7               3.2  ...               0.2  setosa\n",
       "3                4.6               3.1  ...               0.2  setosa\n",
       "4                5.0               3.6  ...               0.2  setosa\n",
       "\n",
       "[5 rows x 5 columns]"
      ]
     },
     "execution_count": 3,
     "metadata": {
      "tags": []
     },
     "output_type": "execute_result"
    }
   ],
   "source": [
    "df = pd.DataFrame(data=iris_dataset['data'], columns=[\"sepal length (cm)\", \"sepal width (cm)\", \"petal length (cm)\", \"petal width (cm)\"])\n",
    "df['Name'] = iris_dataset['target']\n",
    "df.Name = df.Name.replace(to_replace= 0, value=iris_dataset['target_names'][0], regex=True)\n",
    "df.Name = df.Name.replace(to_replace= 1, value=iris_dataset['target_names'][1], regex=True)\n",
    "df.Name = df.Name.replace(to_replace= 2, value=iris_dataset['target_names'][2], regex=True)\n",
    "df.head()"
   ]
  },
  {
   "cell_type": "code",
   "execution_count": 4,
   "metadata": {
    "colab": {
     "base_uri": "https://localhost:8080/",
     "height": 458
    },
    "executionInfo": {
     "elapsed": 1636,
     "status": "ok",
     "timestamp": 1620691003048,
     "user": {
      "displayName": "Miguel González Mendoza",
      "photoUrl": "https://lh3.googleusercontent.com/a-/AOh14GiV_CtUjRyHnCTpKAGAy1PrwRnGCEJqsuffhRV4=s64",
      "userId": "09757055810901067626"
     },
     "user_tz": 300
    },
    "id": "eFhWVtIE09ss",
    "outputId": "2f43a26e-8332-4722-dcbb-c74129a89601"
   },
   "outputs": [
    {
     "data": {
      "text/plain": [
       "<seaborn.axisgrid.FacetGrid at 0x7f56c24ffe10>"
      ]
     },
     "execution_count": 4,
     "metadata": {
      "tags": []
     },
     "output_type": "execute_result"
    },
    {
     "data": {
      "image/png": "[encoded data removed]",
      "text/plain": [
       "<Figure size 516.75x432 with 1 Axes>"
      ]
     },
     "metadata": {
      "tags": []
     },
     "output_type": "display_data"
    }
   ],
   "source": [
    "import seaborn as sns\n",
    " \n",
    "iris = sns.load_dataset('iris')\n",
    " \n",
    "# style used as a theme of graph \n",
    "# for example if we want black \n",
    "# graph with grid then write \"darkgrid\"\n",
    "sns.set_style(\"whitegrid\")\n",
    " \n",
    "# sepal_length, petal_length are iris\n",
    "# feature data height used to define\n",
    "# Height of graph whereas hue store the\n",
    "# class of iris dataset.\n",
    "sns.FacetGrid(iris, hue =\"species\", \n",
    "              height = 6).map(plt.scatter, \n",
    "                              'sepal_length', \n",
    "                              'petal_length').add_legend()"
   ]
  },
  {
   "cell_type": "code",
   "execution_count": 5,
   "metadata": {
    "colab": {
     "base_uri": "https://localhost:8080/",
     "height": 602
    },
    "executionInfo": {
     "elapsed": 977,
     "status": "ok",
     "timestamp": 1620691006572,
     "user": {
      "displayName": "Miguel González Mendoza",
      "photoUrl": "https://lh3.googleusercontent.com/a-/AOh14GiV_CtUjRyHnCTpKAGAy1PrwRnGCEJqsuffhRV4=s64",
      "userId": "09757055810901067626"
     },
     "user_tz": 300
    },
    "id": "kwmkNaFIn1Y2",
    "outputId": "acfcc764-e69c-42a8-d1fb-a020f7135ca2"
   },
   "outputs": [
    {
     "data": {
      "image/png": "[encoded data removed]",
      "text/plain": [
       "<Figure size 648x648 with 4 Axes>"
      ]
     },
     "metadata": {
      "tags": []
     },
     "output_type": "display_data"
    }
   ],
   "source": [
    "df.drop('Name', axis=1).plot(kind='box', subplots=True, layout=(2,2), sharex=False, sharey=False, figsize=(9,9), \n",
    "                                        title='Box Plot for each input variable')\n",
    "plt.show()"
   ]
  },
  {
   "cell_type": "code",
   "execution_count": 6,
   "metadata": {
    "executionInfo": {
     "elapsed": 740,
     "status": "ok",
     "timestamp": 1620691009685,
     "user": {
      "displayName": "Miguel González Mendoza",
      "photoUrl": "https://lh3.googleusercontent.com/a-/AOh14GiV_CtUjRyHnCTpKAGAy1PrwRnGCEJqsuffhRV4=s64",
      "userId": "09757055810901067626"
     },
     "user_tz": 300
    },
    "id": "hsu_2ZOtSeLW"
   },
   "outputs": [],
   "source": [
    "X_train, X_test, y_train, y_test = train_test_split(iris_dataset['data'], iris_dataset['target'], random_state=0)"
   ]
  },
  {
   "cell_type": "markdown",
   "metadata": {
    "id": "eQORlSZC3hAw"
   },
   "source": [
    "# Linear Model"
   ]
  },
  {
   "cell_type": "code",
   "execution_count": 7,
   "metadata": {
    "colab": {
     "base_uri": "https://localhost:8080/"
    },
    "executionInfo": {
     "elapsed": 295,
     "status": "ok",
     "timestamp": 1620691010659,
     "user": {
      "displayName": "Miguel González Mendoza",
      "photoUrl": "https://lh3.googleusercontent.com/a-/AOh14GiV_CtUjRyHnCTpKAGAy1PrwRnGCEJqsuffhRV4=s64",
      "userId": "09757055810901067626"
     },
     "user_tz": 300
    },
    "id": "k3u0Dc423F1D",
    "outputId": "5253b2e4-90b2-455b-b241-d135974c6699"
   },
   "outputs": [
    {
     "name": "stdout",
     "output_type": "stream",
     "text": [
      "Accuracy of Lineal Regression on training set: 0.94\n",
      "Accuracy of Lineal Regression on test set: 0.89\n"
     ]
    }
   ],
   "source": [
    "lm = linear_model.LinearRegression().fit(X_train, y_train)\n",
    "print('Accuracy of Lineal Regression on training set: {:.2f}'\n",
    "     .format(lm.score(X_train, y_train)))\n",
    "print('Accuracy of Lineal Regression on test set: {:.2f}'\n",
    "     .format(lm.score(X_test, y_test)))"
   ]
  },
  {
   "cell_type": "markdown",
   "metadata": {
    "id": "T8PzMiNf_l50"
   },
   "source": [
    "Only with two classes"
   ]
  },
  {
   "cell_type": "code",
   "execution_count": 8,
   "metadata": {
    "colab": {
     "base_uri": "https://localhost:8080/"
    },
    "executionInfo": {
     "elapsed": 640,
     "status": "ok",
     "timestamp": 1620691013576,
     "user": {
      "displayName": "Miguel González Mendoza",
      "photoUrl": "https://lh3.googleusercontent.com/a-/AOh14GiV_CtUjRyHnCTpKAGAy1PrwRnGCEJqsuffhRV4=s64",
      "userId": "09757055810901067626"
     },
     "user_tz": 300
    },
    "id": "moFC0BMN_TeD",
    "outputId": "69708b4e-c8ef-4ca9-9b86-7b11f9008afa"
   },
   "outputs": [
    {
     "name": "stdout",
     "output_type": "stream",
     "text": [
      "Accuracy of Lineal Regression on training set: 0.96\n",
      "Accuracy of Lineal Regression on test set: 0.97\n"
     ]
    }
   ],
   "source": [
    "X_train1, X_test1, y_train1, y_test1 = train_test_split(iris_dataset['data'][0:100], iris_dataset['target'][0:100], random_state=0)\n",
    "lm = linear_model.LinearRegression().fit(X_train1, y_train1)\n",
    "print('Accuracy of Lineal Regression on training set: {:.2f}'\n",
    "     .format(lm.score(X_train1, y_train1)))\n",
    "print('Accuracy of Lineal Regression on test set: {:.2f}'\n",
    "     .format(lm.score(X_test1, y_test1)))"
   ]
  },
  {
   "cell_type": "markdown",
   "metadata": {
    "id": "M9Mxdq4o9MEL"
   },
   "source": [
    "# Logistic Regression"
   ]
  },
  {
   "cell_type": "code",
   "execution_count": 9,
   "metadata": {
    "colab": {
     "base_uri": "https://localhost:8080/"
    },
    "executionInfo": {
     "elapsed": 337,
     "status": "ok",
     "timestamp": 1620691014650,
     "user": {
      "displayName": "Miguel González Mendoza",
      "photoUrl": "https://lh3.googleusercontent.com/a-/AOh14GiV_CtUjRyHnCTpKAGAy1PrwRnGCEJqsuffhRV4=s64",
      "userId": "09757055810901067626"
     },
     "user_tz": 300
    },
    "id": "ldsJHebD4JkH",
    "outputId": "8d34b786-dde6-4952-f4f8-cb9e41dc23a8"
   },
   "outputs": [
    {
     "name": "stdout",
     "output_type": "stream",
     "text": [
      "Accuracy of Logistic Regression on training set: 0.70\n",
      "Accuracy of Logistic Regression on test set: 0.58\n"
     ]
    }
   ],
   "source": [
    "from sklearn.linear_model import LogisticRegression\n",
    "lr = LogisticRegression(C=0.01, solver='liblinear').fit(X_train,y_train)\n",
    "print('Accuracy of Logistic Regression on training set: {:.2f}'\n",
    "     .format(lr.score(X_train, y_train)))\n",
    "print('Accuracy of Logistic Regression on test set: {:.2f}'\n",
    "     .format(lr.score(X_test, y_test)))"
   ]
  },
  {
   "cell_type": "code",
   "execution_count": 10,
   "metadata": {
    "colab": {
     "base_uri": "https://localhost:8080/"
    },
    "executionInfo": {
     "elapsed": 669,
     "status": "ok",
     "timestamp": 1620691017169,
     "user": {
      "displayName": "Miguel González Mendoza",
      "photoUrl": "https://lh3.googleusercontent.com/a-/AOh14GiV_CtUjRyHnCTpKAGAy1PrwRnGCEJqsuffhRV4=s64",
      "userId": "09757055810901067626"
     },
     "user_tz": 300
    },
    "id": "cJK_faaJ6Tzo",
    "outputId": "b4d283ea-ed3a-4e37-fd9c-5520dd1c9c35"
   },
   "outputs": [
    {
     "name": "stdout",
     "output_type": "stream",
     "text": [
      "              precision    recall  f1-score   support\n",
      "\n",
      "           0       1.00      1.00      1.00        13\n",
      "           1       0.00      0.00      0.00        16\n",
      "           2       0.36      1.00      0.53         9\n",
      "\n",
      "    accuracy                           0.58        38\n",
      "   macro avg       0.45      0.67      0.51        38\n",
      "weighted avg       0.43      0.58      0.47        38\n",
      "\n"
     ]
    },
    {
     "name": "stderr",
     "output_type": "stream",
     "text": [
      "/usr/local/lib/python3.7/dist-packages/sklearn/metrics/_classification.py:1272: UndefinedMetricWarning: Precision and F-score are ill-defined and being set to 0.0 in labels with no predicted samples. Use `zero_division` parameter to control this behavior.\n",
      "  _warn_prf(average, modifier, msg_start, len(result))\n"
     ]
    }
   ],
   "source": [
    "predicted = lr.predict(X_test)\n",
    "expected = y_test\n",
    "print(metrics.classification_report(expected, predicted))"
   ]
  },
  {
   "cell_type": "markdown",
   "metadata": {
    "id": "-VVR6BlF9RN2"
   },
   "source": [
    "Only with two classes"
   ]
  },
  {
   "cell_type": "code",
   "execution_count": 11,
   "metadata": {
    "colab": {
     "base_uri": "https://localhost:8080/"
    },
    "executionInfo": {
     "elapsed": 291,
     "status": "ok",
     "timestamp": 1620691020297,
     "user": {
      "displayName": "Miguel González Mendoza",
      "photoUrl": "https://lh3.googleusercontent.com/a-/AOh14GiV_CtUjRyHnCTpKAGAy1PrwRnGCEJqsuffhRV4=s64",
      "userId": "09757055810901067626"
     },
     "user_tz": 300
    },
    "id": "Tndyv4S78T9V",
    "outputId": "90ca2355-0526-4a89-c657-a3ef0e390b79"
   },
   "outputs": [
    {
     "name": "stdout",
     "output_type": "stream",
     "text": [
      "Accuracy of Logistic Regression on training set: 1.00\n",
      "Accuracy of Logistic Regression on test set: 1.00\n"
     ]
    }
   ],
   "source": [
    "X_train1, X_test1, y_train1, y_test1 = train_test_split(iris_dataset['data'][0:100], iris_dataset['target'][0:100], random_state=0)\n",
    "lr = LogisticRegression(C=0.01, solver='liblinear').fit(X_train1,y_train1)\n",
    "print('Accuracy of Logistic Regression on training set: {:.2f}'\n",
    "     .format(lr.score(X_train1, y_train1)))\n",
    "print('Accuracy of Logistic Regression on test set: {:.2f}'\n",
    "     .format(lr.score(X_test1, y_test1)))"
   ]
  },
  {
   "cell_type": "code",
   "execution_count": null,
   "metadata": {
    "colab": {
     "base_uri": "https://localhost:8080/"
    },
    "executionInfo": {
     "elapsed": 1021,
     "status": "ok",
     "timestamp": 1614898896703,
     "user": {
      "displayName": "Cody Eduardo Evans Trejo",
      "photoUrl": "",
      "userId": "01385790639561028475"
     },
     "user_tz": 360
    },
    "id": "dlz1ydiP8r09",
    "outputId": "04f79218-ca28-4546-ac1c-b30ad34295d3"
   },
   "outputs": [
    {
     "name": "stdout",
     "output_type": "stream",
     "text": [
      "              precision    recall  f1-score   support\n",
      "\n",
      "           0       1.00      1.00      1.00        13\n",
      "           1       0.64      1.00      0.78        16\n",
      "           2       0.00      0.00      0.00         9\n",
      "\n",
      "    accuracy                           0.76        38\n",
      "   macro avg       0.55      0.67      0.59        38\n",
      "weighted avg       0.61      0.76      0.67        38\n",
      "\n"
     ]
    },
    {
     "name": "stderr",
     "output_type": "stream",
     "text": [
      "/usr/local/lib/python3.7/dist-packages/sklearn/metrics/_classification.py:1272: UndefinedMetricWarning: Precision and F-score are ill-defined and being set to 0.0 in labels with no predicted samples. Use `zero_division` parameter to control this behavior.\n",
      "  _warn_prf(average, modifier, msg_start, len(result))\n"
     ]
    }
   ],
   "source": [
    "predicted = lr.predict(X_test)\n",
    "expected = y_test\n",
    "print(metrics.classification_report(expected, predicted))"
   ]
  },
  {
   "cell_type": "markdown",
   "metadata": {
    "id": "yehfUIdwoyVg"
   },
   "source": [
    "# Decision Tree"
   ]
  },
  {
   "cell_type": "code",
   "execution_count": null,
   "metadata": {
    "colab": {
     "base_uri": "https://localhost:8080/"
    },
    "executionInfo": {
     "elapsed": 578,
     "status": "ok",
     "timestamp": 1614901875630,
     "user": {
      "displayName": "Cody Eduardo Evans Trejo",
      "photoUrl": "",
      "userId": "01385790639561028475"
     },
     "user_tz": 360
    },
    "id": "4Yg-gvXPot_M",
    "outputId": "7b0b3cbe-b275-471f-eb43-96511725aca2"
   },
   "outputs": [
    {
     "name": "stdout",
     "output_type": "stream",
     "text": [
      "Accuracy of Decision Tree classifier on training set: 1.00\n",
      "Accuracy of Decision Tree classifier on test set: 0.97\n"
     ]
    }
   ],
   "source": [
    "from sklearn.tree import DecisionTreeClassifier\n",
    "clf = DecisionTreeClassifier().fit(X_train, y_train)\n",
    "print('Accuracy of Decision Tree classifier on training set: {:.2f}'\n",
    "     .format(clf.score(X_train, y_train)))\n",
    "print('Accuracy of Decision Tree classifier on test set: {:.2f}'\n",
    "     .format(clf.score(X_test, y_test)))"
   ]
  },
  {
   "cell_type": "code",
   "execution_count": null,
   "metadata": {
    "colab": {
     "base_uri": "https://localhost:8080/"
    },
    "executionInfo": {
     "elapsed": 227,
     "status": "ok",
     "timestamp": 1614887226414,
     "user": {
      "displayName": "Cody Eduardo Evans Trejo",
      "photoUrl": "",
      "userId": "01385790639561028475"
     },
     "user_tz": 360
    },
    "id": "WTN5QeAtxr6n",
    "outputId": "02fe07e1-6f64-4f17-ea21-58372f98a209"
   },
   "outputs": [
    {
     "name": "stdout",
     "output_type": "stream",
     "text": [
      "              precision    recall  f1-score   support\n",
      "\n",
      "           0       1.00      1.00      1.00        13\n",
      "           1       1.00      0.94      0.97        16\n",
      "           2       0.90      1.00      0.95         9\n",
      "\n",
      "    accuracy                           0.97        38\n",
      "   macro avg       0.97      0.98      0.97        38\n",
      "weighted avg       0.98      0.97      0.97        38\n",
      "\n"
     ]
    }
   ],
   "source": [
    "predicted = clf.predict(X_test)\n",
    "expected = y_test\n",
    "print(metrics.classification_report(expected, predicted))"
   ]
  },
  {
   "cell_type": "markdown",
   "metadata": {
    "id": "Q8EluecUo7lP"
   },
   "source": [
    "# K-Nearest Neighbors"
   ]
  },
  {
   "cell_type": "code",
   "execution_count": null,
   "metadata": {
    "colab": {
     "base_uri": "https://localhost:8080/"
    },
    "executionInfo": {
     "elapsed": 276,
     "status": "ok",
     "timestamp": 1614887229347,
     "user": {
      "displayName": "Cody Eduardo Evans Trejo",
      "photoUrl": "",
      "userId": "01385790639561028475"
     },
     "user_tz": 360
    },
    "id": "qOattnKZo5-w",
    "outputId": "dfd62af9-f3f8-4ffc-d9f0-58b1cf60e0c3"
   },
   "outputs": [
    {
     "name": "stdout",
     "output_type": "stream",
     "text": [
      "Accuracy of K-NN classifier on training set: 0.97\n",
      "Accuracy of K-NN classifier on test set: 0.97\n"
     ]
    }
   ],
   "source": [
    "from sklearn.neighbors import KNeighborsClassifier\n",
    "knn = KNeighborsClassifier()\n",
    "knn.fit(X_train, y_train)\n",
    "print('Accuracy of K-NN classifier on training set: {:.2f}'\n",
    "     .format(knn.score(X_train, y_train)))\n",
    "print('Accuracy of K-NN classifier on test set: {:.2f}'\n",
    "     .format(knn.score(X_test, y_test)))"
   ]
  },
  {
   "cell_type": "code",
   "execution_count": null,
   "metadata": {
    "colab": {
     "background_save": true,
     "base_uri": "https://localhost:8080/"
    },
    "executionInfo": {
     "elapsed": 239,
     "status": "ok",
     "timestamp": 1614887231249,
     "user": {
      "displayName": "Cody Eduardo Evans Trejo",
      "photoUrl": "",
      "userId": "01385790639561028475"
     },
     "user_tz": 360
    },
    "id": "kFgVYiUAxlXt"
   },
   "outputs": [
    {
     "name": "stdout",
     "output_type": "stream",
     "text": [
      "              precision    recall  f1-score   support\n",
      "\n",
      "           0       1.00      1.00      1.00        13\n",
      "           1       1.00      0.94      0.97        16\n",
      "           2       0.90      1.00      0.95         9\n",
      "\n",
      "    accuracy                           0.97        38\n",
      "   macro avg       0.97      0.98      0.97        38\n",
      "weighted avg       0.98      0.97      0.97        38\n",
      "\n"
     ]
    }
   ],
   "source": [
    "predicted = knn.predict(X_test)\n",
    "expected = y_test\n",
    "print(metrics.classification_report(expected, predicted))"
   ]
  },
  {
   "cell_type": "markdown",
   "metadata": {
    "id": "u_D94bQdpdth"
   },
   "source": [
    "# Linear Discriminant Analysis"
   ]
  },
  {
   "cell_type": "code",
   "execution_count": null,
   "metadata": {
    "colab": {
     "background_save": true,
     "base_uri": "https://localhost:8080/"
    },
    "executionInfo": {
     "elapsed": 281,
     "status": "ok",
     "timestamp": 1614887233614,
     "user": {
      "displayName": "Cody Eduardo Evans Trejo",
      "photoUrl": "",
      "userId": "01385790639561028475"
     },
     "user_tz": 360
    },
    "id": "Yh8GibN9pckg"
   },
   "outputs": [
    {
     "name": "stdout",
     "output_type": "stream",
     "text": [
      "Accuracy of LDA classifier on training set: 0.98\n",
      "Accuracy of LDA classifier on test set: 0.97\n"
     ]
    }
   ],
   "source": [
    "from sklearn.discriminant_analysis import LinearDiscriminantAnalysis\n",
    "lda = LinearDiscriminantAnalysis()\n",
    "lda.fit(X_train, y_train)\n",
    "print('Accuracy of LDA classifier on training set: {:.2f}'\n",
    "     .format(lda.score(X_train, y_train)))\n",
    "print('Accuracy of LDA classifier on test set: {:.2f}'\n",
    "     .format(lda.score(X_test, y_test)))"
   ]
  },
  {
   "cell_type": "code",
   "execution_count": null,
   "metadata": {
    "colab": {
     "base_uri": "https://localhost:8080/"
    },
    "executionInfo": {
     "elapsed": 219,
     "status": "ok",
     "timestamp": 1614889215921,
     "user": {
      "displayName": "Cody Eduardo Evans Trejo",
      "photoUrl": "",
      "userId": "01385790639561028475"
     },
     "user_tz": 360
    },
    "id": "cYW45UaPxJJh",
    "outputId": "9e188480-3304-4bef-f8fb-76dd6fab4a87"
   },
   "outputs": [
    {
     "name": "stdout",
     "output_type": "stream",
     "text": [
      "              precision    recall  f1-score   support\n",
      "\n",
      "           0       1.00      1.00      1.00        13\n",
      "           1       1.00      0.94      0.97        16\n",
      "           2       0.90      1.00      0.95         9\n",
      "\n",
      "    accuracy                           0.97        38\n",
      "   macro avg       0.97      0.98      0.97        38\n",
      "weighted avg       0.98      0.97      0.97        38\n",
      "\n"
     ]
    }
   ],
   "source": [
    "predicted = lda.predict(X_test)\n",
    "expected = y_test\n",
    "print(metrics.classification_report(expected, predicted))"
   ]
  },
  {
   "cell_type": "markdown",
   "metadata": {
    "id": "zt-3XoZnpwTl"
   },
   "source": [
    "# Gaussian Naive Bayes"
   ]
  },
  {
   "cell_type": "code",
   "execution_count": null,
   "metadata": {
    "colab": {
     "base_uri": "https://localhost:8080/"
    },
    "executionInfo": {
     "elapsed": 250,
     "status": "ok",
     "timestamp": 1614887237568,
     "user": {
      "displayName": "Cody Eduardo Evans Trejo",
      "photoUrl": "",
      "userId": "01385790639561028475"
     },
     "user_tz": 360
    },
    "id": "fOAJmijppPXI",
    "outputId": "cddefc06-eb88-4488-e9ef-f8cad075ce8b"
   },
   "outputs": [
    {
     "name": "stdout",
     "output_type": "stream",
     "text": [
      "Accuracy of GNB classifier on training set: 0.95\n",
      "Accuracy of GNB classifier on test set: 1.00\n"
     ]
    }
   ],
   "source": [
    "from sklearn.naive_bayes import GaussianNB\n",
    "gnb = GaussianNB()\n",
    "gnb.fit(X_train, y_train)\n",
    "print('Accuracy of GNB classifier on training set: {:.2f}'\n",
    "     .format(gnb.score(X_train, y_train)))\n",
    "print('Accuracy of GNB classifier on test set: {:.2f}'\n",
    "     .format(gnb.score(X_test, y_test)))"
   ]
  },
  {
   "cell_type": "code",
   "execution_count": null,
   "metadata": {
    "colab": {
     "base_uri": "https://localhost:8080/"
    },
    "executionInfo": {
     "elapsed": 215,
     "status": "ok",
     "timestamp": 1614889228029,
     "user": {
      "displayName": "Cody Eduardo Evans Trejo",
      "photoUrl": "",
      "userId": "01385790639561028475"
     },
     "user_tz": 360
    },
    "id": "lvlo8BGLwy6_",
    "outputId": "836bba96-0a5a-48ce-f347-282b685bc59f"
   },
   "outputs": [
    {
     "name": "stdout",
     "output_type": "stream",
     "text": [
      "              precision    recall  f1-score   support\n",
      "\n",
      "           0       1.00      1.00      1.00        13\n",
      "           1       1.00      1.00      1.00        16\n",
      "           2       1.00      1.00      1.00         9\n",
      "\n",
      "    accuracy                           1.00        38\n",
      "   macro avg       1.00      1.00      1.00        38\n",
      "weighted avg       1.00      1.00      1.00        38\n",
      "\n"
     ]
    }
   ],
   "source": [
    "predicted = gnb.predict(X_test)\n",
    "expected = y_test\n",
    "print(metrics.classification_report(expected, predicted))"
   ]
  },
  {
   "cell_type": "markdown",
   "metadata": {
    "id": "Wk5M-QiFrEIs"
   },
   "source": [
    "# Nearest Neighbors Classification"
   ]
  },
  {
   "cell_type": "code",
   "execution_count": null,
   "metadata": {
    "colab": {
     "base_uri": "https://localhost:8080/",
     "height": 562
    },
    "executionInfo": {
     "elapsed": 2984,
     "status": "ok",
     "timestamp": 1614887736582,
     "user": {
      "displayName": "Cody Eduardo Evans Trejo",
      "photoUrl": "",
      "userId": "01385790639561028475"
     },
     "user_tz": 360
    },
    "id": "k6zH_hwlp9ME",
    "outputId": "70818fc6-f35b-400d-de8b-06866f355f6d"
   },
   "outputs": [
    {
     "data": {
      "image/png": "[encoded data removed]",
      "text/plain": [
       "<Figure size 432x288 with 1 Axes>"
      ]
     },
     "metadata": {
      "tags": []
     },
     "output_type": "display_data"
    },
    {
     "data": {
      "image/png": "[encoded data removed]",
      "text/plain": [
       "<Figure size 432x288 with 1 Axes>"
      ]
     },
     "metadata": {
      "tags": []
     },
     "output_type": "display_data"
    },
    {
     "name": "stdout",
     "output_type": "stream",
     "text": [
      "Accuracy : 0.93\n"
     ]
    }
   ],
   "source": [
    "n_neighbors = 15\n",
    "\n",
    "# import some data to play with\n",
    "iris = datasets.load_iris()\n",
    "X = iris.data[:, :2]  # we only take the first two features. We could\n",
    "                      # avoid this ugly slicing by using a two-dim dataset\n",
    "y = iris.target\n",
    "\n",
    "h = .02  # step size in the mesh\n",
    "\n",
    "# Create color maps\n",
    "cmap_light = ListedColormap(['#FFAAAA', '#AAFFAA', '#AAAAFF'])\n",
    "cmap_bold = ListedColormap(['#FF0000', '#00FF00', '#0000FF'])\n",
    "\n",
    "for weights in ['uniform', 'distance']:\n",
    "    # we create an instance of Neighbours Classifier and fit the data.\n",
    "    clf = neighbors.KNeighborsClassifier(n_neighbors, weights=weights)\n",
    "    clf.fit(X, y)\n",
    "\n",
    "    # Plot the decision boundary. For that, we will assign a color to each\n",
    "    # point in the mesh [x_min, x_max]x[y_min, y_max].\n",
    "    x_min, x_max = X[:, 0].min() - 1, X[:, 0].max() + 1\n",
    "    y_min, y_max = X[:, 1].min() - 1, X[:, 1].max() + 1\n",
    "    xx, yy = np.meshgrid(np.arange(x_min, x_max, h),\n",
    "                         np.arange(y_min, y_max, h))\n",
    "    Z = clf.predict(np.c_[xx.ravel(), yy.ravel()])\n",
    "\n",
    "    # Put the result into a color plot\n",
    "    Z = Z.reshape(xx.shape)\n",
    "    plt.figure()\n",
    "    plt.pcolormesh(xx, yy, Z, cmap=cmap_light)\n",
    "\n",
    "    # Plot also the training points\n",
    "    plt.scatter(X[:, 0], X[:, 1], c=y, cmap=cmap_bold)\n",
    "    plt.xlim(xx.min(), xx.max())\n",
    "    plt.ylim(yy.min(), yy.max())\n",
    "    plt.title(\"3-Class classification (k = %i, weights = '%s')\"\n",
    "              % (n_neighbors, weights))\n",
    "\n",
    "plt.show()\n",
    "\n",
    "print('Accuracy : {:.2f}'\n",
    "     .format(clf.score(X, y)))"
   ]
  }
 ],
 "metadata": {
  "colab": {
   "collapsed_sections": [],
   "name": "Linear classification",
   "version": ""
  },
  "kernelspec": {
   "display_name": "Python 3",
   "language": "python",
   "name": "python3"
  },
  "language_info": {
   "codemirror_mode": {
    "name": "ipython",
    "version": 3
   },
   "file_extension": ".py",
   "mimetype": "text/x-python",
   "name": "python",
   "nbconvert_exporter": "python",
   "pygments_lexer": "ipython3",
   "version": "3.8.8"
  }
 },
 "nbformat": 4,
 "nbformat_minor": 1
}
